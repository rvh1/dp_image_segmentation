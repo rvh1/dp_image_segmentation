{
 "cells": [
  {
   "cell_type": "markdown",
   "metadata": {},
   "source": [
    "We use matplotlib for display of graphs and segmented images"
   ]
  },
  {
   "cell_type": "code",
   "execution_count": 2,
   "metadata": {
    "collapsed": true
   },
   "outputs": [],
   "source": [
    "import matplotlib.pyplot as plt\n",
    "\n",
    "# Display all plots inline\n",
    "%matplotlib inline"
   ]
  },
  {
   "cell_type": "markdown",
   "metadata": {},
   "source": [
    "## 1. Density Peak (DP) Clustering with Test Data\n",
    "First we read in Excel data that have been set up manually to visualise and illustrate how DP clustering works on a small test data set. All code for the DP algorithm has been tested first on this very small test data set to ensure that results are sound. \n",
    "It is relatively easy to identify and fix bugs by testing the code on some 20+ data sets. However, it is nearly impossible to undertake similar tests on thousands of pixels in an image. "
   ]
  },
  {
   "cell_type": "code",
   "execution_count": null,
   "metadata": {},
   "outputs": [],
   "source": [
    "import xlrd\n",
    "\n",
    "\n",
    "def scatter_plot(x,y): \n",
    "    plt.figure(figsize=(10, 6))    \n",
    "    plt.xlabel(\"x-axis\")\n",
    "    plt.ylabel(\"y-axis\")\n",
    "    plt.title(\"Scatterplot of points\")\n",
    "    plt.scatter(x, y, marker= 'o')\n",
    "    plt.show()\n",
    "\n",
    "\n",
    "inputs = list()\n",
    "with xlrd.open_workbook('testdata/testdata.xlsx') as workbook:\n",
    "    worksheet = workbook.sheet_by_name('test')\n",
    "    for row_idx in range(1, worksheet.nrows):\n",
    "        record = [worksheet.cell(row_idx, col_idx).value for col_idx in range(worksheet.ncols)]\n",
    "        # append new case (as tuple with x and y component)\n",
    "        inputs.append((record[0], record[1]))\n",
    "\n",
    "# unzip list of tuples and display scatterplot\n",
    "x, y = zip(*inputs)\n",
    "scatter_plot(x,y)  \n"
   ]
  },
  {
   "cell_type": "markdown",
   "metadata": {},
   "source": [
    "Figure 1-1. Points visualised in scatterplot\n",
    "\n",
    "Intuitively we would group the points into three different groups: one to the top at the middle, a second to bottom at the left and the third to the right in the middle. \n",
    "\n",
    "We test the newly developed DP clustering algorithm against this data and visualise the results, by displaying the points in different colours. We use the Euclidean metric, as it is a plausible metric to describe the distances between points in the diagram. "
   ]
  },
  {
   "cell_type": "markdown",
   "metadata": {},
   "source": [
    "First we import the DP class definition. Then we instantiate the class and run the code"
   ]
  },
  {
   "cell_type": "code",
   "execution_count": 4,
   "metadata": {},
   "outputs": [],
   "source": [
    "from dp import DPPoints "
   ]
  },
  {
   "cell_type": "markdown",
   "metadata": {},
   "source": [
    "Now we run the DP algorithm with some specific hyper-parameter settings that work best on such a small data set. It is not surprising that those settings have to be modified when we run the same code against actual images (with hundreds of thousands of pixels in three-dimensional space). \n",
    "\n",
    "We set granularity (cube length) to 1, as there is no need to slice the data space. Only some 20 records or so are in the Excel file. "
   ]
  },
  {
   "cell_type": "code",
   "execution_count": 5,
   "metadata": {},
   "outputs": [],
   "source": [
    "dp = DPPoints()\n",
    "dp.GRANULARITY = 1 # work on each single point, without pre-clustering \n",
    "dp.D_SCALING =7.0  # this scaling factor produced good results for the data set \n",
    "dp.run(inputs)     # next run dp clustering \n"
   ]
  },
  {
   "cell_type": "markdown",
   "metadata": {},
   "source": [
    "We display the density for each point in a scatterplot "
   ]
  },
  {
   "cell_type": "code",
   "execution_count": null,
   "metadata": {
    "scrolled": true
   },
   "outputs": [],
   "source": [
    "def scatter_plot_by_cluster(): \n",
    "    plt.figure(figsize=(10, 6))    \n",
    "    plt.xlabel(\"x-axis\")\n",
    "    plt.ylabel(\"y-axis\")\n",
    "    plt.title(\"Scatterplot of points\")\n",
    "    \n",
    "    for p in dp.pnts:\n",
    "        plt.annotate(str(round(dp.dens[p],1)), p)\n",
    "        plt.scatter(p[0], p[1], marker= 'o')\n",
    "    \n",
    "    plt.show()\n",
    "\n",
    "\n",
    "#visualise data in scatterplot \n",
    "scatter_plot_by_cluster() "
   ]
  },
  {
   "cell_type": "markdown",
   "metadata": {},
   "source": [
    "Figure 1-2 Points in the scatter plot annotated with their calculated density (rho) \n",
    "\n",
    "The highest density (100) is for a point in the top cluster, then a high density point can be found in the cluster to the right and also in the cluster in the bottom left. \n",
    "\n",
    "In the next step, we convert the data to a Decision Graph, with density (rho) as x-axis and distance (delta) as y-axis."
   ]
  },
  {
   "cell_type": "code",
   "execution_count": null,
   "metadata": {},
   "outputs": [],
   "source": [
    "def decision_graph(): \n",
    "    plt.figure(figsize=(10, 6))    \n",
    "    plt.xlabel(\"Density\")\n",
    "    plt.ylabel(\"Distance\")\n",
    "    plt.title(\"Decision Graph\")\n",
    "    \n",
    "    for p in dp.pnts:\n",
    "        plt.scatter(dp.dens[p], dp.dst[p], marker= 'o')\n",
    "    plt.show()\n",
    "\n",
    "\n",
    "#visualise data in scatterplot \n",
    "decision_graph() "
   ]
  },
  {
   "cell_type": "markdown",
   "metadata": {},
   "source": [
    "Figure 1-3 Decision Graph with test data\n",
    "\n",
    "The Decision Graph identifies 3 points that stand out as outliers and can be designated as the centroids of the new clusters. \n",
    "Now we visualise the outliers in the Scatterplot. "
   ]
  },
  {
   "cell_type": "code",
   "execution_count": null,
   "metadata": {},
   "outputs": [],
   "source": [
    "def decision_graph_with_outliers(): \n",
    "    plt.figure(figsize=(10, 6))    \n",
    "    plt.xlabel(\"Density\")\n",
    "    plt.ylabel(\"Distance\")\n",
    "    plt.title(\"Decision Graph with Outliers\")\n",
    "    \n",
    "    # Plot the density/distance pairs into the Decision Graph\n",
    "    for key in dp.pnts.keys():\n",
    "        if key in dp.centroids:\n",
    "            plt.scatter(dp.dens[key], dp.dst[key], marker= 'o', color = 'red')\n",
    "        else:\n",
    "            plt.scatter(dp.dens[key], dp.dst[key], marker= 'o', color = 'blue')\n",
    "\n",
    "    plt.fill([dp.dens_threshold,dp.DG_SCALING+10,dp.DG_SCALING+10,dp.dens_threshold], \n",
    "             [dp.dst_threshold,dp.dst_threshold,dp.DG_SCALING+10,dp.DG_SCALING+10], 'b', alpha=0.1)\n",
    "    plt.annotate('Greyed area contains the outliers', [dp.dens_threshold+30,dp.DG_SCALING+13])\n",
    "    # show the graph \n",
    "    plt.show()\n",
    "\n",
    "# run the code in this function \n",
    "decision_graph_with_outliers() "
   ]
  },
  {
   "cell_type": "markdown",
   "metadata": {},
   "source": [
    "Figure 1-4 Decision Graph with highlighted area for outliers. \n",
    "\n",
    "Points in the greyed area are classified as outliers and marked as the cluster centres. We take as minimum value for the density 5% of the density and as minimum value for the distance a value that is modelled by the exponential distribution. The resultant outlier area is shaded in grey. "
   ]
  },
  {
   "cell_type": "markdown",
   "metadata": {},
   "source": [
    "Finally, we visualise the outliers in the original scatterplot. "
   ]
  },
  {
   "cell_type": "code",
   "execution_count": null,
   "metadata": {},
   "outputs": [],
   "source": [
    "def scatter_plot_by_cluster(): \n",
    "    plt.figure(figsize=(10, 6))    \n",
    "    plt.xlabel(\"x-axis\")\n",
    "    plt.ylabel(\"y-axis\")\n",
    "    plt.title(\"Scatterplot annotated with cluster groups and centroids of each cluster in red\")\n",
    "    # Plot the points into the scatterplot and annotate with their respective groups (1, ... k)\n",
    "    points_per_group = dp.get_data() \n",
    "    colors = ['red','green','blue']\n",
    "    for p in dp.pnts:\n",
    "        for i,c in enumerate(dp.centroids):\n",
    "            if dp.assigned_group[dp.p_map[p]] == c:\n",
    "                if c == p:\n",
    "                    plt.annotate('<--Centroid', [p[0]+0.5,p[1]-0.7])\n",
    "                plt.scatter(p[0],p[1], marker= 'o', color = colors[i])\n",
    "    plt.show()\n",
    "#visualise data in scatterplot \n",
    "scatter_plot_by_cluster()"
   ]
  },
  {
   "cell_type": "markdown",
   "metadata": {},
   "source": [
    "Figure 1-5 Scatterplot with cluster groups and centroids\n",
    "\n",
    "The three groups are coloured and produce intuitively correct results that had been predicted when the data had first been seen (see comments to Figure 1-1). The centroids are somewhat in the centres of their respective groups. \n",
    "\n",
    "This concludes the test of the DP algorithm for the test data set in the Excel file. Now we apply the same algorithm to images. "
   ]
  },
  {
   "cell_type": "markdown",
   "metadata": {},
   "source": [
    "## 2. Density-Peak (DP) Segmentation for Images\n",
    "\n",
    "We start by defining a support function for inline display of pictures in this workbook. Library datetime is imported so we can measure the runtime of the Density-Peak (DP) process against various configuration settings and images. "
   ]
  },
  {
   "cell_type": "markdown",
   "metadata": {},
   "source": [
    "We import class DPImage, which has been developed for the clustering of images, using DP. Library PIL (Python Imaging Library) is used for pixel exchange between images (before and after the pixel manipulations).\n"
   ]
  },
  {
   "cell_type": "code",
   "execution_count": 10,
   "metadata": {},
   "outputs": [],
   "source": [
    "from dp import DPImage\n",
    "from PIL import Image"
   ]
  },
  {
   "cell_type": "markdown",
   "metadata": {},
   "source": [
    "We run the DP algorithm"
   ]
  },
  {
   "cell_type": "code",
   "execution_count": null,
   "metadata": {},
   "outputs": [],
   "source": [
    "dist = 'Euclidean'    \n",
    "dp = DPImage(dist)\n",
    "imgname = \"images/k.jpeg\"\n",
    "img1 = Image.open(imgname)\n",
    "img2 = Image.open(imgname)\n",
    "dp.run_img(img1)\n",
    "img2.putdata(dp.get_data())\n",
    "f, axarr = plt.subplots(1,2)\n",
    "f.suptitle(\"DP - Granularity = \"+str(dp.GRANULARITY)+\", Number of Distinct Pixels = \"+str(len(dp.pnts.keys())), fontsize=16)\n",
    "axarr[0].set_title('Original')\n",
    "axarr[0].imshow(img1)\n",
    "axarr[0].axis('off')\n",
    "axarr[1].set_title('Clustered')\n",
    "axarr[1].imshow(img2)   \n",
    "axarr[1].axis('off') \n",
    "plt.show() \n",
    "\n",
    "print('Granularity:                         '+str(dp.GRANULARITY))\n",
    "print('Number of pixel clusters:            '+str(len(dp.pnts.keys())))\n",
    "print('Number of centroids:                 '+str(len(dp.centroids)))\n",
    "print('Total Number of pixels in image:     '+str(sum(dp.pnts.values())))\n",
    "print('Max distance between two pixels:     '+str(round(dp.max_dist,1)))\n",
    "print('Percentage DC to max pixel distance: '+str(round(100*dp.dc/dp.max_dist,1))+'%')\n",
    "print('Runtime (in seconds):                '+str(dp.seconds))\n"
   ]
  },
  {
   "cell_type": "markdown",
   "metadata": {},
   "source": [
    "Figure 1-6 Output for Clustered Image with Details and Runtime Performance \n",
    "\n",
    "For the percentage DC to max pixel distance, the paper from Zhenshong et al. recommend 0.5% of the mx distance between two pixels. In my own tests on preclustered images (with a cube length of 16 pixels) it turns out that 3% works well on most images. \n",
    "This slightly larger value may be explainable: Through the pre-clustering larger 'void' areas between pixels have been introduced: after all, the minimum distance between 2 pixel cube centres is now 16! This means DC needs to be slightly increased to amplify impact of density calculations for pixels outside its own cube. \n",
    "\n",
    "Runtime on my McBook Air with 8GB RAM is excellent (just 4 seconds). "
   ]
  },
  {
   "cell_type": "markdown",
   "metadata": {},
   "source": [
    "Now we plot the data in the decision graph. "
   ]
  },
  {
   "cell_type": "code",
   "execution_count": null,
   "metadata": {
    "scrolled": true
   },
   "outputs": [],
   "source": [
    "def decision_graph_with_outliers(): \n",
    "    plt.figure(figsize=(10, 6))    \n",
    "    plt.xlabel(\"Density\")\n",
    "    plt.ylabel(\"Distance\")\n",
    "    plt.title(\"Decision Graph with Outliers\")\n",
    "    \n",
    "    # Plot the density/distance pairs into the Decision Graph\n",
    "    for key in dp.pnts.keys():\n",
    "        if key in dp.centroids:\n",
    "            plt.scatter(dp.dens[key], dp.dst[key], marker= 'o', color = 'red')\n",
    "        else:\n",
    "            plt.scatter(dp.dens[key], dp.dst[key], marker= 'o', color = 'blue')\n",
    "\n",
    "    plt.fill([dp.dens_threshold,dp.DG_SCALING+10,dp.DG_SCALING+10,dp.dens_threshold], \n",
    "             [dp.dst_threshold,dp.dst_threshold,dp.DG_SCALING+10,dp.DG_SCALING+10], 'b', alpha=0.1)\n",
    "    plt.annotate('Greyed area contains the outliers', [dp.dens_threshold+30,dp.DG_SCALING+13])\n",
    "    # show the graph \n",
    "    plt.show()\n",
    "\n",
    "# run the code in this function \n",
    "decision_graph_with_outliers() "
   ]
  },
  {
   "cell_type": "markdown",
   "metadata": {},
   "source": [
    "Figure 1-7 Decision Graph with Outliers for Clustered Image at Figure 1-6\n",
    "\n",
    "The program identifies 3 clusters (outliers) in the Decision Graph. All other pixels are close to the x-axis (density) with a distance measure of close to 0. \n"
   ]
  },
  {
   "cell_type": "markdown",
   "metadata": {},
   "source": [
    "\n",
    "This concludes the coding section of the Project Report for the Density Peak (DP) Algorithm.  "
   ]
  }
 ],
 "metadata": {
  "anaconda-cloud": {},
  "kernelspec": {
   "display_name": "Python 3",
   "language": "python",
   "name": "python3"
  },
  "language_info": {
   "codemirror_mode": {
    "name": "ipython",
    "version": 3
   },
   "file_extension": ".py",
   "mimetype": "text/x-python",
   "name": "python",
   "nbconvert_exporter": "python",
   "pygments_lexer": "ipython3",
   "version": "3.6.5"
  }
 },
 "nbformat": 4,
 "nbformat_minor": 1
}
